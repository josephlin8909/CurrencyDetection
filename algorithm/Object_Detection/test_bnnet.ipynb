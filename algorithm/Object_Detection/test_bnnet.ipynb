{
  "cells": [
    {
      "cell_type": "code",
      "execution_count": 1,
      "metadata": {
        "colab": {
          "base_uri": "https://localhost:8080/"
        },
        "id": "43W4ZKDH_n55",
        "outputId": "8d8c3e2b-0a66-4fd7-d6fc-50d528548698"
      },
      "outputs": [
        {
          "name": "stdout",
          "output_type": "stream",
          "text": [
            "Mounted at /content/drive\n"
          ]
        }
      ],
      "source": [
        "from google.colab import drive\n",
        "drive.mount('/content/drive')"
      ]
    },
    {
      "cell_type": "markdown",
      "metadata": {
        "id": "UGuhcxSFnCJ-"
      },
      "source": [
        "# Import libraries"
      ]
    },
    {
      "cell_type": "code",
      "execution_count": 2,
      "metadata": {
        "id": "Y8eF5L_m_KXN"
      },
      "outputs": [],
      "source": [
        "# supported currency in the dataset\n",
        "currency_choices = [\"AUD\",\"BRL\",\"CAD\",\"EUR\",\"GBP\",\"INR\",\"JPY\",\"MXN\",\"PKR\",\"SGD\",\"TRY\",\"USD\",\"NZD\",\"NNR\",\"MYR\",\"IDR\",\"PHP\",]\n",
        "\n",
        "# import libraries\n",
        "from matplotlib import pyplot as plt\n",
        "import pandas as pd\n",
        "import tensorflow as tf\n",
        "from keras.callbacks import ModelCheckpoint\n",
        "from keras.layers import Dense, Dropout, Input, Conv2D, Flatten, MaxPool2D\n",
        "from keras.models import Model, Sequential, load_model"
      ]
    },
    {
      "cell_type": "markdown",
      "metadata": {
        "id": "Q_ZgCfeUnP2z"
      },
      "source": [
        "# Extract image embedding from the csv file"
      ]
    },
    {
      "cell_type": "code",
      "execution_count": 3,
      "metadata": {
        "colab": {
          "base_uri": "https://localhost:8080/"
        },
        "id": "32_GEc3bnoZR",
        "outputId": "07bfd9ce-debf-4e0f-e617-99d7aae2c4d6"
      },
      "outputs": [
        {
          "name": "stderr",
          "output_type": "stream",
          "text": [
            "<ipython-input-3-8492bfc927dd>:4: SettingWithCopyWarning: \n",
            "A value is trying to be set on a copy of a slice from a DataFrame.\n",
            "Try using .loc[row_indexer,col_indexer] = value instead\n",
            "\n",
            "See the caveats in the documentation: https://pandas.pydata.org/pandas-docs/stable/user_guide/indexing.html#returning-a-view-versus-a-copy\n",
            "  data['currency_denomination'] = data['Currency'] + \"_\" + data['Denomination']\n"
          ]
        }
      ],
      "source": [
        "PATH = \"/content/drive/MyDrive/VIP/banknote_net.csv\"\n",
        "data = pd.read_csv(PATH) \n",
        "data = data[data.Currency != \"USD\"] # extract one currency \n",
        "data['currency_denomination'] = data['Currency'] + \"_\" + data['Denomination']\n",
        "del data[\"Currency\"]\n",
        "del data[\"Denomination\"]\n",
        "# print(data)\n",
        "data = data.sample(frac=1) # shuffle the dataset\n",
        "\n",
        "labels = data.pop(\"currency_denomination\") # get denomination and currency as labels\n",
        "labels = labels.astype(\"category\") # group the same labels into same category \n",
        "encoded_labels = pd.get_dummies(labels) # convert to a one-hot encoded data\n",
        "\n",
        "data = data.iloc[:,1:] # remove row number column\n",
        "# print(data) "
      ]
    },
    {
      "cell_type": "markdown",
      "metadata": {
        "id": "DuuTmTLY98fU"
      },
      "source": [
        "# Train the DNN classifier"
      ]
    },
    {
      "cell_type": "code",
      "execution_count": 4,
      "metadata": {
        "colab": {
          "base_uri": "https://localhost:8080/"
        },
        "id": "ppNrSHEmulqy",
        "outputId": "fa3c21f6-1b41-4b87-a292-d3e62396e29a"
      },
      "outputs": [
        {
          "name": "stdout",
          "output_type": "stream",
          "text": [
            "Model: \"sequential\"\n",
            "_________________________________________________________________\n",
            " Layer (type)                Output Shape              Param #   \n",
            "=================================================================\n",
            " dense (Dense)               (None, 128)               32896     \n",
            "                                                                 \n",
            " dropout (Dropout)           (None, 128)               0         \n",
            "                                                                 \n",
            " dense_1 (Dense)             (None, 210)               27090     \n",
            "                                                                 \n",
            "=================================================================\n",
            "Total params: 59,986\n",
            "Trainable params: 59,986\n",
            "Non-trainable params: 0\n",
            "_________________________________________________________________\n"
          ]
        },
        {
          "name": "stderr",
          "output_type": "stream",
          "text": [
            "/usr/local/lib/python3.8/dist-packages/keras/optimizers/optimizer_v2/adam.py:110: UserWarning: The `lr` argument is deprecated, use `learning_rate` instead.\n",
            "  super(Adam, self).__init__(name, **kwargs)\n"
          ]
        },
        {
          "name": "stdout",
          "output_type": "stream",
          "text": [
            "Epoch 1/30\n",
            "726/726 [==============================] - 3s 3ms/step - loss: 1.7463 - accuracy: 0.6476\n",
            "Epoch 2/30\n",
            "726/726 [==============================] - 2s 3ms/step - loss: 0.5882 - accuracy: 0.8583\n",
            "Epoch 3/30\n",
            "726/726 [==============================] - 2s 3ms/step - loss: 0.4697 - accuracy: 0.8799\n",
            "Epoch 4/30\n",
            "726/726 [==============================] - 2s 3ms/step - loss: 0.3973 - accuracy: 0.8954\n",
            "Epoch 5/30\n",
            "726/726 [==============================] - 2s 3ms/step - loss: 0.3614 - accuracy: 0.9022\n",
            "Epoch 6/30\n",
            "726/726 [==============================] - 2s 3ms/step - loss: 0.3431 - accuracy: 0.9054\n",
            "Epoch 7/30\n",
            "726/726 [==============================] - 2s 3ms/step - loss: 0.3139 - accuracy: 0.9120\n",
            "Epoch 8/30\n",
            "726/726 [==============================] - 2s 3ms/step - loss: 0.3008 - accuracy: 0.9151\n",
            "Epoch 9/30\n",
            "726/726 [==============================] - 2s 3ms/step - loss: 0.2858 - accuracy: 0.9187\n",
            "Epoch 10/30\n",
            "726/726 [==============================] - 2s 3ms/step - loss: 0.2725 - accuracy: 0.9192\n",
            "Epoch 11/30\n",
            "726/726 [==============================] - 2s 3ms/step - loss: 0.2630 - accuracy: 0.9233\n",
            "Epoch 12/30\n",
            "726/726 [==============================] - 2s 3ms/step - loss: 0.2557 - accuracy: 0.9251\n",
            "Epoch 13/30\n",
            "726/726 [==============================] - 2s 3ms/step - loss: 0.2448 - accuracy: 0.9264\n",
            "Epoch 14/30\n",
            "726/726 [==============================] - 2s 3ms/step - loss: 0.2360 - accuracy: 0.9265\n",
            "Epoch 15/30\n",
            "726/726 [==============================] - 2s 3ms/step - loss: 0.2371 - accuracy: 0.9292\n",
            "Epoch 16/30\n",
            "726/726 [==============================] - 2s 3ms/step - loss: 0.2282 - accuracy: 0.9309\n",
            "Epoch 17/30\n",
            "726/726 [==============================] - 2s 3ms/step - loss: 0.2227 - accuracy: 0.9314\n",
            "Epoch 18/30\n",
            "726/726 [==============================] - 4s 5ms/step - loss: 0.2203 - accuracy: 0.9308\n",
            "Epoch 19/30\n",
            "726/726 [==============================] - 2s 3ms/step - loss: 0.2128 - accuracy: 0.9340\n",
            "Epoch 20/30\n",
            "726/726 [==============================] - 2s 3ms/step - loss: 0.2105 - accuracy: 0.9348\n",
            "Epoch 21/30\n",
            "726/726 [==============================] - 2s 3ms/step - loss: 0.1991 - accuracy: 0.9383\n",
            "Epoch 22/30\n",
            "726/726 [==============================] - 2s 3ms/step - loss: 0.1991 - accuracy: 0.9390\n",
            "Epoch 23/30\n",
            "726/726 [==============================] - 5s 6ms/step - loss: 0.1920 - accuracy: 0.9386\n",
            "Epoch 24/30\n",
            "726/726 [==============================] - 4s 6ms/step - loss: 0.1888 - accuracy: 0.9416\n",
            "Epoch 25/30\n",
            "726/726 [==============================] - 4s 6ms/step - loss: 0.1910 - accuracy: 0.9392\n",
            "Epoch 26/30\n",
            "726/726 [==============================] - 4s 5ms/step - loss: 0.1887 - accuracy: 0.9406\n",
            "Epoch 27/30\n",
            "726/726 [==============================] - 4s 5ms/step - loss: 0.1849 - accuracy: 0.9414\n",
            "Epoch 28/30\n",
            "726/726 [==============================] - 4s 6ms/step - loss: 0.1813 - accuracy: 0.9426\n",
            "Epoch 29/30\n",
            "726/726 [==============================] - 3s 4ms/step - loss: 0.1802 - accuracy: 0.9433\n",
            "Epoch 30/30\n",
            "726/726 [==============================] - 2s 3ms/step - loss: 0.1756 - accuracy: 0.9435\n"
          ]
        }
      ],
      "source": [
        "NUM_CLASSES = len(labels.unique())\n",
        "NUM_TRAIN_SAMPLES = len(data) \n",
        "\n",
        "# Leng Lohanakakul 11/7/2022\n",
        "# Define a convolutional neural network that takes an input shape of 128x128x3\n",
        "model = Sequential()\n",
        "model.add(Input(shape=(256,)))\n",
        "model.add(Dense(128, activation=\"relu\")) \n",
        "model.add(Dropout(0.5)) \n",
        "model.add(Dense(NUM_CLASSES, activation=\"softmax\"))\n",
        "model.summary()\n",
        "\n",
        "model.compile(optimizer=tf.keras.optimizers.Adam(lr=1e-3), loss='categorical_crossentropy', metrics=['accuracy'])\n",
        "\n",
        "n_epochs=30\n",
        "training = model.fit(x=data.values, y=encoded_labels.values, epochs=n_epochs)"
      ]
    },
    {
      "cell_type": "code",
      "execution_count": 5,
      "metadata": {
        "colab": {
          "base_uri": "https://localhost:8080/",
          "height": 350
        },
        "id": "DBy37AcHRIz3",
        "outputId": "b9da9241-647b-46b6-f70a-6f8dbd326fd2"
      },
      "outputs": [
        {
          "data": {
            "image/png": "[encoded data removed]",
            "text/plain": [
              "<Figure size 1080x360 with 2 Axes>"
            ]
          },
          "metadata": {
            "needs_background": "light"
          },
          "output_type": "display_data"
        }
      ],
      "source": [
        "fig, ax = plt.subplots(nrows=1, ncols=2, figsize=(15,5), squeeze=False) \n",
        "# plot the loss value over n_epochs \n",
        "ax[0,0].plot(range(1,n_epochs+1), training.history['loss'])\n",
        "ax[0,0].set_title(\"losses\")\n",
        "ax[0,0].set_xlabel('epoch') \n",
        "ax[0,0].set_ylabel('losses')\n",
        "# plot the accuracy over n_epochs\n",
        "ax[0,1].plot(range(1,n_epochs+1), training.history['accuracy'])\n",
        "ax[0,1].set_title(\"accuracy\")\n",
        "ax[0,1].set_xlabel('epoch') \n",
        "ax[0,1].set_ylabel('accuracy')\n",
        "\n",
        "plt.show() "
      ]
    }
  ],
  "metadata": {
    "colab": {
      "provenance": []
    },
    "kernelspec": {
      "display_name": "Python 3",
      "name": "python3"
    },
    "language_info": {
      "name": "python"
    }
  },
  "nbformat": 4,
  "nbformat_minor": 0
}
