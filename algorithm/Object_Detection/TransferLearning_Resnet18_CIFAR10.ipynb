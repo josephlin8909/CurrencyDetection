{
  "nbformat": 4,
  "nbformat_minor": 0,
  "metadata": {
    "colab": {
      "provenance": []
    },
    "kernelspec": {
      "name": "python3",
      "display_name": "Python 3"
    },
    "language_info": {
      "name": "python"
    },
    "accelerator": "GPU"
  },
  "cells": [
    {
      "cell_type": "markdown",
      "source": [
        "# Transfer Learning \n",
        "\n",
        "Pretrain a CNN on a very large dataset and then use the CNN to initialize or freeze parts of the loaded models\n",
        "\n",
        "Transfer Learning: https://builtin.com/data-science/transfer-learning \n",
        "\n",
        "tochvision.models: https://pytorch.org/vision/stable/models.html\n",
        "\n",
        "ImageNet data: https://www.image-net.org/ \n",
        "\n",
        "Resnet-18: https://arxiv.org/pdf/1512.03385.pdf"
      ],
      "metadata": {
        "id": "M2-u2ZQu5xTt"
      }
    },
    {
      "cell_type": "code",
      "source": [
        "def print_accuracy(model, test_loader) : \n",
        "  # Leng Lohanakakul 10/25/2022 \n",
        "  # This function prints the accuracy of the output to the test/target image\n",
        "  # Function inputs: \n",
        "  # model: a CNN model to be evaluated \n",
        "  # test_loader: minibatches from the test dataset\n",
        "\n",
        "  device = torch.device('cuda') \n",
        "  model.to(device) # move from CPU to GPU \n",
        "  correct, total = 0, 0 \n",
        "  with torch.no_grad() : \n",
        "    for data in test_loader : \n",
        "      images, labels = data \n",
        "      images = images.to(device)\n",
        "      labels = labels.to(device) \n",
        "      outputs = model(images) # output from the model\n",
        "      _, predicted = torch.max(outputs.data, 1) # select the highest output data to be evaluated \n",
        "      total += labels.size(0) \n",
        "      correct += (predicted == labels).sum().item() \n",
        "  print('Accuracy of neural network on the test images: %d %%' % (100 * correct / total))"
      ],
      "metadata": {
        "id": "879bGa9D7E77"
      },
      "execution_count": 1,
      "outputs": []
    },
    {
      "cell_type": "code",
      "execution_count": 8,
      "metadata": {
        "colab": {
          "base_uri": "https://localhost:8080/"
        },
        "id": "I06ZgcYdAgcD",
        "outputId": "e095bf93-4592-4b88-e0d5-a57cae61f866"
      },
      "outputs": [
        {
          "output_type": "stream",
          "name": "stdout",
          "text": [
            "Files already downloaded and verified\n",
            "Files already downloaded and verified\n",
            "\n",
            "\n",
            "Accuracy of neural network on the test images: 0 %\n",
            "Epoch [1/3], Step [625/3125] Loss: 0.319\n",
            "Epoch [1/3], Step [1250/3125] Loss: 0.376\n",
            "Epoch [1/3], Step [1875/3125] Loss: 0.110\n",
            "Epoch [1/3], Step [2500/3125] Loss: 0.442\n",
            "Epoch [1/3], Step [3125/3125] Loss: 0.382\n",
            "Epoch [2/3], Step [625/3125] Loss: 0.164\n",
            "Epoch [2/3], Step [1250/3125] Loss: 0.060\n",
            "Epoch [2/3], Step [1875/3125] Loss: 0.401\n",
            "Epoch [2/3], Step [2500/3125] Loss: 0.129\n",
            "Epoch [2/3], Step [3125/3125] Loss: 0.151\n",
            "Epoch [3/3], Step [625/3125] Loss: 0.237\n",
            "Epoch [3/3], Step [1250/3125] Loss: 0.098\n",
            "Epoch [3/3], Step [1875/3125] Loss: 0.007\n",
            "Epoch [3/3], Step [2500/3125] Loss: 0.088\n",
            "Epoch [3/3], Step [3125/3125] Loss: 0.021\n",
            "Accuracy of neural network on the test images: 92 %\n"
          ]
        }
      ],
      "source": [
        "import torch \n",
        "import torchvision \n",
        "import torch.nn as nn \n",
        "import torch.nn.functional as F \n",
        "import torch.optim as optim \n",
        "import torchvision.models as models\n",
        "import torchvision.transforms as transforms \n",
        "import time \n",
        "\n",
        "# load the pretrained ResNet-18 that is already trained on ImageNet dataset using torchvision.models\n",
        "resnet18 = models.resnet18(pretrained=True) \n",
        "\n",
        "# import and download CIFAR 10 dataset  \n",
        "transform = transforms.Compose([transforms.ToTensor(), transforms.Normalize((0.5,0.5,0.5),(0.5,0.5,0.5)), torchvision.transforms.Resize((224,224))])\n",
        "trainset = torchvision.datasets.CIFAR10(root='./data', train=True, download=True, transform=transform) \n",
        "testset = torchvision.datasets.CIFAR10(root='./data', train=False, download=True, transform=transform)\n",
        "# configure loader for each train/test set\n",
        "train_loader = torch.utils.data.DataLoader(trainset, batch_size=16, shuffle=True)\n",
        "test_loader = torch.utils.data.DataLoader(testset, batch_size=16, shuffle=True)\n",
        "\n",
        "# accuracy of neural network is 0% because the trainset and testset is not from the same dataset\n",
        "# ResNet-18 is trained on ImageNet but we're testing on CIFAR10 dataset resulting in poor accuracy\n",
        "print('\\n') \n",
        "print_accuracy(resnet18, test_loader)\n",
        "\n",
        "# define stochastic gradient descent optimizer and cross entropy loss function\n",
        "optimizer = optim.SGD(resnet18.parameters(), lr=0.001, momentum=0.9) \n",
        "# nn.CrossEntropyLoss function is a combination of softmax function and negative log likelihood\n",
        "lossFunc = nn.CrossEntropyLoss() \n",
        "device = torch.device('cuda') \n",
        "epoch_range = 3\n",
        "\n",
        "for epoch in range(epoch_range): \n",
        "  for i, (images, labels) in enumerate(train_loader) : \n",
        "    # sends the image and labels to GPU\n",
        "    images = images.to(device) \n",
        "    labels = labels.to(device) \n",
        "    # forward propagation \n",
        "    outputs = resnet18(images) \n",
        "    loss = lossFunc(outputs, labels) \n",
        "    # Backward propagation and optimize the model\n",
        "    optimizer.zero_grad() \n",
        "    loss.backward() \n",
        "    optimizer.step() \n",
        "    # print every 625 mini-batches\n",
        "    if (i + 1) % 625 == 0: \n",
        "      print(\"Epoch [{}/{}], Step [{}/{}] Loss: {:.3f}\".format(epoch+1, epoch_range, i+1, len(train_loader), loss.item()))\n",
        "    \n",
        "print_accuracy(resnet18, test_loader)"
      ]
    }
  ]
}